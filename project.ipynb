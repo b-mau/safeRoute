{
 "cells": [
  {
   "cell_type": "markdown",
   "metadata": {},
   "source": [
    "# Data Preprocessing"
   ]
  },
  {
   "cell_type": "code",
   "execution_count": 365,
   "metadata": {},
   "outputs": [],
   "source": [
    "# Read csv from data/train.csv\n",
    "\n",
    "import csv\n",
    "import numpy as np\n",
    "import pandas as pd\n",
    "import matplotlib.pyplot as plt\n",
    "import seaborn as sns\n",
    "import geopandas as gpd\n",
    "from geopy.distance import geodesic\n"
   ]
  },
  {
   "cell_type": "code",
   "execution_count": 366,
   "metadata": {},
   "outputs": [],
   "source": [
    "df = pd.read_csv(\"data/raw_data.csv\", header=0, names=[\"lsoa_a\", \"lsoa_b\", \"day\", \"hour\", \"label\"])"
   ]
  },
  {
   "cell_type": "code",
   "execution_count": 367,
   "metadata": {},
   "outputs": [
    {
     "data": {
      "text/html": [
       "<div>\n",
       "<style scoped>\n",
       "    .dataframe tbody tr th:only-of-type {\n",
       "        vertical-align: middle;\n",
       "    }\n",
       "\n",
       "    .dataframe tbody tr th {\n",
       "        vertical-align: top;\n",
       "    }\n",
       "\n",
       "    .dataframe thead th {\n",
       "        text-align: right;\n",
       "    }\n",
       "</style>\n",
       "<table border=\"1\" class=\"dataframe\">\n",
       "  <thead>\n",
       "    <tr style=\"text-align: right;\">\n",
       "      <th></th>\n",
       "      <th>lsoa_a</th>\n",
       "      <th>lsoa_b</th>\n",
       "      <th>day</th>\n",
       "      <th>hour</th>\n",
       "      <th>label</th>\n",
       "    </tr>\n",
       "  </thead>\n",
       "  <tbody>\n",
       "    <tr>\n",
       "      <th>0</th>\n",
       "      <td>E01000802</td>\n",
       "      <td>E01000423</td>\n",
       "      <td>Sunday</td>\n",
       "      <td>19:01</td>\n",
       "      <td>0</td>\n",
       "    </tr>\n",
       "    <tr>\n",
       "      <th>1</th>\n",
       "      <td>E01000715</td>\n",
       "      <td>E01000501</td>\n",
       "      <td>Friday</td>\n",
       "      <td>14:55</td>\n",
       "      <td>1</td>\n",
       "    </tr>\n",
       "    <tr>\n",
       "      <th>2</th>\n",
       "      <td>E01000400</td>\n",
       "      <td>E01000866</td>\n",
       "      <td>Sunday</td>\n",
       "      <td>21:52</td>\n",
       "      <td>1</td>\n",
       "    </tr>\n",
       "    <tr>\n",
       "      <th>3</th>\n",
       "      <td>E01000529</td>\n",
       "      <td>E01000900</td>\n",
       "      <td>Tuesday</td>\n",
       "      <td>04:24</td>\n",
       "      <td>0</td>\n",
       "    </tr>\n",
       "    <tr>\n",
       "      <th>4</th>\n",
       "      <td>E01000183</td>\n",
       "      <td>E01000918</td>\n",
       "      <td>Tuesday</td>\n",
       "      <td>20:16</td>\n",
       "      <td>1</td>\n",
       "    </tr>\n",
       "    <tr>\n",
       "      <th>...</th>\n",
       "      <td>...</td>\n",
       "      <td>...</td>\n",
       "      <td>...</td>\n",
       "      <td>...</td>\n",
       "      <td>...</td>\n",
       "    </tr>\n",
       "    <tr>\n",
       "      <th>99995</th>\n",
       "      <td>E01000703</td>\n",
       "      <td>E01000963</td>\n",
       "      <td>Wednesday</td>\n",
       "      <td>13:18</td>\n",
       "      <td>0</td>\n",
       "    </tr>\n",
       "    <tr>\n",
       "      <th>99996</th>\n",
       "      <td>E01000119</td>\n",
       "      <td>E01000531</td>\n",
       "      <td>Saturday</td>\n",
       "      <td>21:25</td>\n",
       "      <td>0</td>\n",
       "    </tr>\n",
       "    <tr>\n",
       "      <th>99997</th>\n",
       "      <td>E01000572</td>\n",
       "      <td>E01000740</td>\n",
       "      <td>Thursday</td>\n",
       "      <td>20:32</td>\n",
       "      <td>0</td>\n",
       "    </tr>\n",
       "    <tr>\n",
       "      <th>99998</th>\n",
       "      <td>E01000465</td>\n",
       "      <td>E01000209</td>\n",
       "      <td>Thursday</td>\n",
       "      <td>16:21</td>\n",
       "      <td>0</td>\n",
       "    </tr>\n",
       "    <tr>\n",
       "      <th>99999</th>\n",
       "      <td>E01000044</td>\n",
       "      <td>E01000120</td>\n",
       "      <td>Thursday</td>\n",
       "      <td>10:35</td>\n",
       "      <td>0</td>\n",
       "    </tr>\n",
       "  </tbody>\n",
       "</table>\n",
       "<p>100000 rows × 5 columns</p>\n",
       "</div>"
      ],
      "text/plain": [
       "          lsoa_a     lsoa_b        day   hour  label\n",
       "0      E01000802  E01000423     Sunday  19:01      0\n",
       "1      E01000715  E01000501     Friday  14:55      1\n",
       "2      E01000400  E01000866     Sunday  21:52      1\n",
       "3      E01000529  E01000900    Tuesday  04:24      0\n",
       "4      E01000183  E01000918    Tuesday  20:16      1\n",
       "...          ...        ...        ...    ...    ...\n",
       "99995  E01000703  E01000963  Wednesday  13:18      0\n",
       "99996  E01000119  E01000531   Saturday  21:25      0\n",
       "99997  E01000572  E01000740   Thursday  20:32      0\n",
       "99998  E01000465  E01000209   Thursday  16:21      0\n",
       "99999  E01000044  E01000120   Thursday  10:35      0\n",
       "\n",
       "[100000 rows x 5 columns]"
      ]
     },
     "execution_count": 367,
     "metadata": {},
     "output_type": "execute_result"
    }
   ],
   "source": [
    "df"
   ]
  },
  {
   "cell_type": "code",
   "execution_count": 368,
   "metadata": {},
   "outputs": [],
   "source": [
    "df_encoded = df.copy()"
   ]
  },
  {
   "cell_type": "code",
   "execution_count": 369,
   "metadata": {},
   "outputs": [
    {
     "data": {
      "text/html": [
       "<div>\n",
       "<style scoped>\n",
       "    .dataframe tbody tr th:only-of-type {\n",
       "        vertical-align: middle;\n",
       "    }\n",
       "\n",
       "    .dataframe tbody tr th {\n",
       "        vertical-align: top;\n",
       "    }\n",
       "\n",
       "    .dataframe thead th {\n",
       "        text-align: right;\n",
       "    }\n",
       "</style>\n",
       "<table border=\"1\" class=\"dataframe\">\n",
       "  <thead>\n",
       "    <tr style=\"text-align: right;\">\n",
       "      <th></th>\n",
       "      <th>FID</th>\n",
       "      <th>LSOA21CD</th>\n",
       "      <th>LSOA21NM</th>\n",
       "      <th>LSOA21NMW</th>\n",
       "      <th>BNG_E</th>\n",
       "      <th>BNG_N</th>\n",
       "      <th>LAT</th>\n",
       "      <th>LONG</th>\n",
       "      <th>Shape__Area</th>\n",
       "      <th>Shape__Length</th>\n",
       "      <th>GlobalID</th>\n",
       "    </tr>\n",
       "  </thead>\n",
       "  <tbody>\n",
       "    <tr>\n",
       "      <th>0</th>\n",
       "      <td>1</td>\n",
       "      <td>E01000001</td>\n",
       "      <td>City of London 001A</td>\n",
       "      <td></td>\n",
       "      <td>532123</td>\n",
       "      <td>181632</td>\n",
       "      <td>51.51817</td>\n",
       "      <td>-0.097150</td>\n",
       "      <td>1.577948e+05</td>\n",
       "      <td>1685.391557</td>\n",
       "      <td>3478c558-3297-4e2b-979e-e29dd9ff3bf5</td>\n",
       "    </tr>\n",
       "    <tr>\n",
       "      <th>1</th>\n",
       "      <td>2</td>\n",
       "      <td>E01000002</td>\n",
       "      <td>City of London 001B</td>\n",
       "      <td></td>\n",
       "      <td>532480</td>\n",
       "      <td>181715</td>\n",
       "      <td>51.51883</td>\n",
       "      <td>-0.091970</td>\n",
       "      <td>1.648821e+05</td>\n",
       "      <td>1804.827316</td>\n",
       "      <td>f2072109-b1ae-426c-b166-083cc32f1789</td>\n",
       "    </tr>\n",
       "    <tr>\n",
       "      <th>2</th>\n",
       "      <td>3</td>\n",
       "      <td>E01000003</td>\n",
       "      <td>City of London 001C</td>\n",
       "      <td></td>\n",
       "      <td>532239</td>\n",
       "      <td>182033</td>\n",
       "      <td>51.52174</td>\n",
       "      <td>-0.095330</td>\n",
       "      <td>4.221605e+04</td>\n",
       "      <td>909.253080</td>\n",
       "      <td>a9009c33-9b6b-4230-ba62-fc3264806de4</td>\n",
       "    </tr>\n",
       "    <tr>\n",
       "      <th>3</th>\n",
       "      <td>4</td>\n",
       "      <td>E01000005</td>\n",
       "      <td>City of London 001E</td>\n",
       "      <td></td>\n",
       "      <td>533581</td>\n",
       "      <td>181283</td>\n",
       "      <td>51.51469</td>\n",
       "      <td>-0.076280</td>\n",
       "      <td>2.127007e+05</td>\n",
       "      <td>2028.716721</td>\n",
       "      <td>86aee0aa-079f-4f92-8f9d-5773824f4945</td>\n",
       "    </tr>\n",
       "    <tr>\n",
       "      <th>4</th>\n",
       "      <td>5</td>\n",
       "      <td>E01000006</td>\n",
       "      <td>Barking and Dagenham 016A</td>\n",
       "      <td></td>\n",
       "      <td>544994</td>\n",
       "      <td>184274</td>\n",
       "      <td>51.53875</td>\n",
       "      <td>0.089317</td>\n",
       "      <td>1.305512e+05</td>\n",
       "      <td>1716.731235</td>\n",
       "      <td>c33f1f5b-6b15-47a1-b046-b6a148a9f6d3</td>\n",
       "    </tr>\n",
       "    <tr>\n",
       "      <th>...</th>\n",
       "      <td>...</td>\n",
       "      <td>...</td>\n",
       "      <td>...</td>\n",
       "      <td>...</td>\n",
       "      <td>...</td>\n",
       "      <td>...</td>\n",
       "      <td>...</td>\n",
       "      <td>...</td>\n",
       "      <td>...</td>\n",
       "      <td>...</td>\n",
       "      <td>...</td>\n",
       "    </tr>\n",
       "    <tr>\n",
       "      <th>35667</th>\n",
       "      <td>35668</td>\n",
       "      <td>W01002036</td>\n",
       "      <td>Vale of Glamorgan 005G</td>\n",
       "      <td>Bro Morgannwg 005G</td>\n",
       "      <td>317939</td>\n",
       "      <td>172435</td>\n",
       "      <td>51.44494</td>\n",
       "      <td>-3.182180</td>\n",
       "      <td>4.411147e+05</td>\n",
       "      <td>2800.544728</td>\n",
       "      <td>f79ed9c6-8220-49d9-9a69-e80e9f0007cb</td>\n",
       "    </tr>\n",
       "    <tr>\n",
       "      <th>35668</th>\n",
       "      <td>35669</td>\n",
       "      <td>W01002037</td>\n",
       "      <td>Vale of Glamorgan 005H</td>\n",
       "      <td>Bro Morgannwg 005H</td>\n",
       "      <td>318527</td>\n",
       "      <td>172406</td>\n",
       "      <td>51.44476</td>\n",
       "      <td>-3.173710</td>\n",
       "      <td>2.321998e+05</td>\n",
       "      <td>2088.259479</td>\n",
       "      <td>fdd8e9dc-8504-4955-aa8d-e4cff563ed76</td>\n",
       "    </tr>\n",
       "    <tr>\n",
       "      <th>35669</th>\n",
       "      <td>35670</td>\n",
       "      <td>W01002038</td>\n",
       "      <td>Vale of Glamorgan 014G</td>\n",
       "      <td>Bro Morgannwg 014G</td>\n",
       "      <td>306491</td>\n",
       "      <td>167360</td>\n",
       "      <td>51.39754</td>\n",
       "      <td>-3.345520</td>\n",
       "      <td>3.496360e+06</td>\n",
       "      <td>10460.433787</td>\n",
       "      <td>7b56d7b1-48e6-4883-a46e-3bd00345bc8c</td>\n",
       "    </tr>\n",
       "    <tr>\n",
       "      <th>35670</th>\n",
       "      <td>35671</td>\n",
       "      <td>W01002039</td>\n",
       "      <td>Vale of Glamorgan 014H</td>\n",
       "      <td>Bro Morgannwg 014H</td>\n",
       "      <td>306564</td>\n",
       "      <td>166023</td>\n",
       "      <td>51.38553</td>\n",
       "      <td>-3.344120</td>\n",
       "      <td>5.819288e+05</td>\n",
       "      <td>3094.046530</td>\n",
       "      <td>36d00276-9970-4f4b-9322-5b89fdacf0c3</td>\n",
       "    </tr>\n",
       "    <tr>\n",
       "      <th>35671</th>\n",
       "      <td>35672</td>\n",
       "      <td>W01002040</td>\n",
       "      <td>Vale of Glamorgan 015F</td>\n",
       "      <td>Bro Morgannwg 015F</td>\n",
       "      <td>311423</td>\n",
       "      <td>167179</td>\n",
       "      <td>51.39670</td>\n",
       "      <td>-3.274600</td>\n",
       "      <td>6.898294e+05</td>\n",
       "      <td>4088.556787</td>\n",
       "      <td>85b0ef74-819a-42f1-b3e5-cfc570839651</td>\n",
       "    </tr>\n",
       "  </tbody>\n",
       "</table>\n",
       "<p>35672 rows × 11 columns</p>\n",
       "</div>"
      ],
      "text/plain": [
       "         FID   LSOA21CD                   LSOA21NM           LSOA21NMW  \\\n",
       "0          1  E01000001        City of London 001A                       \n",
       "1          2  E01000002        City of London 001B                       \n",
       "2          3  E01000003        City of London 001C                       \n",
       "3          4  E01000005        City of London 001E                       \n",
       "4          5  E01000006  Barking and Dagenham 016A                       \n",
       "...      ...        ...                        ...                 ...   \n",
       "35667  35668  W01002036     Vale of Glamorgan 005G  Bro Morgannwg 005G   \n",
       "35668  35669  W01002037     Vale of Glamorgan 005H  Bro Morgannwg 005H   \n",
       "35669  35670  W01002038     Vale of Glamorgan 014G  Bro Morgannwg 014G   \n",
       "35670  35671  W01002039     Vale of Glamorgan 014H  Bro Morgannwg 014H   \n",
       "35671  35672  W01002040     Vale of Glamorgan 015F  Bro Morgannwg 015F   \n",
       "\n",
       "        BNG_E   BNG_N       LAT      LONG   Shape__Area  Shape__Length  \\\n",
       "0      532123  181632  51.51817 -0.097150  1.577948e+05    1685.391557   \n",
       "1      532480  181715  51.51883 -0.091970  1.648821e+05    1804.827316   \n",
       "2      532239  182033  51.52174 -0.095330  4.221605e+04     909.253080   \n",
       "3      533581  181283  51.51469 -0.076280  2.127007e+05    2028.716721   \n",
       "4      544994  184274  51.53875  0.089317  1.305512e+05    1716.731235   \n",
       "...       ...     ...       ...       ...           ...            ...   \n",
       "35667  317939  172435  51.44494 -3.182180  4.411147e+05    2800.544728   \n",
       "35668  318527  172406  51.44476 -3.173710  2.321998e+05    2088.259479   \n",
       "35669  306491  167360  51.39754 -3.345520  3.496360e+06   10460.433787   \n",
       "35670  306564  166023  51.38553 -3.344120  5.819288e+05    3094.046530   \n",
       "35671  311423  167179  51.39670 -3.274600  6.898294e+05    4088.556787   \n",
       "\n",
       "                                   GlobalID  \n",
       "0      3478c558-3297-4e2b-979e-e29dd9ff3bf5  \n",
       "1      f2072109-b1ae-426c-b166-083cc32f1789  \n",
       "2      a9009c33-9b6b-4230-ba62-fc3264806de4  \n",
       "3      86aee0aa-079f-4f92-8f9d-5773824f4945  \n",
       "4      c33f1f5b-6b15-47a1-b046-b6a148a9f6d3  \n",
       "...                                     ...  \n",
       "35667  f79ed9c6-8220-49d9-9a69-e80e9f0007cb  \n",
       "35668  fdd8e9dc-8504-4955-aa8d-e4cff563ed76  \n",
       "35669  7b56d7b1-48e6-4883-a46e-3bd00345bc8c  \n",
       "35670  36d00276-9970-4f4b-9322-5b89fdacf0c3  \n",
       "35671  85b0ef74-819a-42f1-b3e5-cfc570839651  \n",
       "\n",
       "[35672 rows x 11 columns]"
      ]
     },
     "execution_count": 369,
     "metadata": {},
     "output_type": "execute_result"
    }
   ],
   "source": [
    "gdf = pd.read_csv(\"data/LSOA.csv\") \n",
    "gdf"
   ]
  },
  {
   "cell_type": "code",
   "execution_count": 370,
   "metadata": {},
   "outputs": [
    {
     "name": "stdout",
     "output_type": "stream",
     "text": [
      "Number of unique LSOAs: 999\n"
     ]
    }
   ],
   "source": [
    "# Obtener valores únicos de LSOA\n",
    "unique_lsoas = list(set(df[\"lsoa_a\"].tolist() + df[\"lsoa_b\"].tolist()))\n",
    "print(f\"Number of unique LSOAs: {len(unique_lsoas)}\")\n",
    "\n",
    "# Crear mapeo\n",
    "lsoa2idx = {lsoa: idx for idx, lsoa in enumerate(unique_lsoas)}\n",
    "idx2lsoa = {idx: lsoa for lsoa, idx in lsoa2idx.items()}\n",
    "lsoa2coords = {lsoa: (tuple(gdf[gdf[\"LSOA21CD\"] == lsoa][\"LONG\"].values), tuple(gdf[gdf[\"LSOA21CD\"] == lsoa][\"LAT\"].values)) for lsoa in unique_lsoas}\n",
    "coords2lsoa = {coords: lsoa for lsoa, coords in lsoa2coords.items()}\n",
    "day2idx = {day: idx for idx, day in enumerate(sorted(set(df[\"day\"].tolist())))}\n",
    "idx2day = {idx: day for day, idx in day2idx.items()}\n",
    "\n",
    "# Crear intervalos de hora\n",
    "hour_intervals = [(i, i+1) for i in range(24)]  # 0-1, 1-2, ..., 23-24\n",
    "\n",
    "# Mapear cada hora a su intervalo correspondiente\n",
    "hour2interval = {i: idx for idx, (i, _) in enumerate(hour_intervals)}"
   ]
  },
  {
   "cell_type": "code",
   "execution_count": 371,
   "metadata": {},
   "outputs": [],
   "source": [
    "df_encoded[\"lsoa_a\"] = df[\"lsoa_a\"].map(lsoa2idx)\n",
    "df_encoded[\"lsoa_b\"] = df[\"lsoa_b\"].map(lsoa2idx)\n",
    "df_encoded[\"day\"] = df[\"day\"].map(day2idx)\n",
    "df_encoded['hour'] = df['hour'].apply(lambda x: int(x.split(\":\")[0]))\n",
    "df_encoded[\"hour\"] = df_encoded[\"hour\"].map(hour2interval)"
   ]
  },
  {
   "cell_type": "code",
   "execution_count": 372,
   "metadata": {},
   "outputs": [
    {
     "data": {
      "text/html": [
       "<div>\n",
       "<style scoped>\n",
       "    .dataframe tbody tr th:only-of-type {\n",
       "        vertical-align: middle;\n",
       "    }\n",
       "\n",
       "    .dataframe tbody tr th {\n",
       "        vertical-align: top;\n",
       "    }\n",
       "\n",
       "    .dataframe thead th {\n",
       "        text-align: right;\n",
       "    }\n",
       "</style>\n",
       "<table border=\"1\" class=\"dataframe\">\n",
       "  <thead>\n",
       "    <tr style=\"text-align: right;\">\n",
       "      <th></th>\n",
       "      <th>lsoa_a</th>\n",
       "      <th>lsoa_b</th>\n",
       "      <th>day</th>\n",
       "      <th>hour</th>\n",
       "      <th>label</th>\n",
       "    </tr>\n",
       "  </thead>\n",
       "  <tbody>\n",
       "    <tr>\n",
       "      <th>0</th>\n",
       "      <td>883</td>\n",
       "      <td>523</td>\n",
       "      <td>3</td>\n",
       "      <td>19</td>\n",
       "      <td>0</td>\n",
       "    </tr>\n",
       "    <tr>\n",
       "      <th>1</th>\n",
       "      <td>859</td>\n",
       "      <td>156</td>\n",
       "      <td>0</td>\n",
       "      <td>14</td>\n",
       "      <td>1</td>\n",
       "    </tr>\n",
       "    <tr>\n",
       "      <th>2</th>\n",
       "      <td>271</td>\n",
       "      <td>547</td>\n",
       "      <td>3</td>\n",
       "      <td>21</td>\n",
       "      <td>1</td>\n",
       "    </tr>\n",
       "    <tr>\n",
       "      <th>3</th>\n",
       "      <td>363</td>\n",
       "      <td>628</td>\n",
       "      <td>5</td>\n",
       "      <td>4</td>\n",
       "      <td>0</td>\n",
       "    </tr>\n",
       "    <tr>\n",
       "      <th>4</th>\n",
       "      <td>884</td>\n",
       "      <td>99</td>\n",
       "      <td>5</td>\n",
       "      <td>20</td>\n",
       "      <td>1</td>\n",
       "    </tr>\n",
       "    <tr>\n",
       "      <th>...</th>\n",
       "      <td>...</td>\n",
       "      <td>...</td>\n",
       "      <td>...</td>\n",
       "      <td>...</td>\n",
       "      <td>...</td>\n",
       "    </tr>\n",
       "    <tr>\n",
       "      <th>99995</th>\n",
       "      <td>378</td>\n",
       "      <td>818</td>\n",
       "      <td>6</td>\n",
       "      <td>13</td>\n",
       "      <td>0</td>\n",
       "    </tr>\n",
       "    <tr>\n",
       "      <th>99996</th>\n",
       "      <td>776</td>\n",
       "      <td>450</td>\n",
       "      <td>2</td>\n",
       "      <td>21</td>\n",
       "      <td>0</td>\n",
       "    </tr>\n",
       "    <tr>\n",
       "      <th>99997</th>\n",
       "      <td>8</td>\n",
       "      <td>308</td>\n",
       "      <td>4</td>\n",
       "      <td>20</td>\n",
       "      <td>0</td>\n",
       "    </tr>\n",
       "    <tr>\n",
       "      <th>99998</th>\n",
       "      <td>131</td>\n",
       "      <td>224</td>\n",
       "      <td>4</td>\n",
       "      <td>16</td>\n",
       "      <td>0</td>\n",
       "    </tr>\n",
       "    <tr>\n",
       "      <th>99999</th>\n",
       "      <td>959</td>\n",
       "      <td>359</td>\n",
       "      <td>4</td>\n",
       "      <td>10</td>\n",
       "      <td>0</td>\n",
       "    </tr>\n",
       "  </tbody>\n",
       "</table>\n",
       "<p>100000 rows × 5 columns</p>\n",
       "</div>"
      ],
      "text/plain": [
       "       lsoa_a  lsoa_b  day  hour  label\n",
       "0         883     523    3    19      0\n",
       "1         859     156    0    14      1\n",
       "2         271     547    3    21      1\n",
       "3         363     628    5     4      0\n",
       "4         884      99    5    20      1\n",
       "...       ...     ...  ...   ...    ...\n",
       "99995     378     818    6    13      0\n",
       "99996     776     450    2    21      0\n",
       "99997       8     308    4    20      0\n",
       "99998     131     224    4    16      0\n",
       "99999     959     359    4    10      0\n",
       "\n",
       "[100000 rows x 5 columns]"
      ]
     },
     "execution_count": 372,
     "metadata": {},
     "output_type": "execute_result"
    }
   ],
   "source": [
    "df_encoded"
   ]
  },
  {
   "cell_type": "code",
   "execution_count": 373,
   "metadata": {},
   "outputs": [],
   "source": [
    "# Save data as data.csv\n",
    "df_encoded.to_csv(\"data/data.csv\", index=False)"
   ]
  },
  {
   "cell_type": "markdown",
   "metadata": {},
   "source": [
    "# Model"
   ]
  },
  {
   "cell_type": "code",
   "execution_count": 374,
   "metadata": {},
   "outputs": [],
   "source": [
    "# Tensorflow and tf.keras\n",
    "import tensorflow as tf\n",
    "from tensorflow import keras\n",
    "from tensorflow.keras.optimizers import Adam\n",
    "\n",
    "#Helper libraries\n",
    "import numpy as np\n",
    "import pandas as pd\n",
    "import matplotlib.pyplot as plt\n",
    "from sklearn.metrics import classification_report, confusion_matrix\n",
    "from sklearn.model_selection import train_test_split"
   ]
  },
  {
   "cell_type": "code",
   "execution_count": 375,
   "metadata": {},
   "outputs": [
    {
     "name": "stdout",
     "output_type": "stream",
     "text": [
      "x_train: (80000, 4)\n",
      "t_train: (80000,)\n",
      "x_dev: (20000, 4)\n",
      "t_dev: (20000,)\n"
     ]
    }
   ],
   "source": [
    "DATA = \"data/data.csv\"\n",
    "data = pd.read_csv(DATA)\n",
    "\n",
    "TRAIN_RATE=0.8\n",
    "\n",
    "label = data['label']\n",
    "attributes = data.drop(columns=['label'])\n",
    "\n",
    "\n",
    "n_instances = attributes.shape[0]\n",
    "n_train = int(n_instances*TRAIN_RATE)\n",
    "n_dev = int((n_instances-n_train))\n",
    "\n",
    "x_train = attributes.values[:n_train]\n",
    "t_train = label.values[:n_train]\n",
    "\n",
    "x_dev = attributes.values[n_train:n_train+n_dev]\n",
    "t_dev = label.values[n_train:n_train+n_dev]\n",
    "\n",
    "print (\"x_train:\",x_train.shape)\n",
    "print (\"t_train:\",t_train.shape)\n",
    "\n",
    "print (\"x_dev:\",x_dev.shape)\n",
    "print (\"t_dev:\",t_dev.shape)"
   ]
  },
  {
   "cell_type": "code",
   "execution_count": 376,
   "metadata": {},
   "outputs": [],
   "source": [
    "INPUTS = x_train.shape[1]\n",
    "OUTPUTS = 1\n",
    "NUM_TRAINING_EXAMPLES = int(round(x_train.shape[0]/1))\n",
    "NUM_DEV_EXAMPLES = int (round (x_dev.shape[0]/1))"
   ]
  },
  {
   "cell_type": "code",
   "execution_count": 377,
   "metadata": {},
   "outputs": [],
   "source": [
    "# Hyperparameters\n",
    "\n",
    "n_epochs = 200\n",
    "lr = 0.001\n",
    "batch_size = 512\n",
    "n_neurons_per_hlayer = [650, 500, 350, 350, 250, 250, 250 , 150, 100, 100]"
   ]
  },
  {
   "cell_type": "code",
   "execution_count": 378,
   "metadata": {},
   "outputs": [
    {
     "name": "stdout",
     "output_type": "stream",
     "text": [
      "Model: \"DeepFeedForward\"\n",
      "_________________________________________________________________\n",
      "Layer (type)                 Output Shape              Param #   \n",
      "=================================================================\n",
      "input_10 (InputLayer)        [(None, 4)]               0         \n",
      "_________________________________________________________________\n",
      "dense_107 (Dense)            (None, 650)               3250      \n",
      "_________________________________________________________________\n",
      "dense_108 (Dense)            (None, 500)               325500    \n",
      "_________________________________________________________________\n",
      "dense_109 (Dense)            (None, 350)               175350    \n",
      "_________________________________________________________________\n",
      "dense_110 (Dense)            (None, 350)               122850    \n",
      "_________________________________________________________________\n",
      "dense_111 (Dense)            (None, 250)               87750     \n",
      "_________________________________________________________________\n",
      "dense_112 (Dense)            (None, 250)               62750     \n",
      "_________________________________________________________________\n",
      "dense_113 (Dense)            (None, 250)               62750     \n",
      "_________________________________________________________________\n",
      "dense_114 (Dense)            (None, 150)               37650     \n",
      "_________________________________________________________________\n",
      "dense_115 (Dense)            (None, 100)               15100     \n",
      "_________________________________________________________________\n",
      "dense_116 (Dense)            (None, 100)               10100     \n",
      "_________________________________________________________________\n",
      "dense_117 (Dense)            (None, 1)                 101       \n",
      "=================================================================\n",
      "Total params: 903,151\n",
      "Trainable params: 903,151\n",
      "Non-trainable params: 0\n",
      "_________________________________________________________________\n"
     ]
    }
   ],
   "source": [
    "input_layer = keras.layers.Input(shape=(INPUTS))\n",
    "output_layer = keras.layers.Dense(units=1, activation='sigmoid')(x)\n",
    "\n",
    "x = input_layer\n",
    "for neurons in n_neurons_per_hlayer:\n",
    "  x = keras.layers.Dense(units=neurons, activation = 'relu', kernel_initializer = \"he_normal\")(x)\n",
    "  keras.layers.BatchNormalization()\n",
    "output_layer = keras.layers.Dense(units=OUTPUTS, activation = 'sigmoid')(x)\n",
    "model = keras.models.Model(input_layer, output_layer, name='DeepFeedForward')\n",
    "model.summary()"
   ]
  },
  {
   "cell_type": "code",
   "execution_count": 379,
   "metadata": {},
   "outputs": [],
   "source": [
    "model.compile(loss=tf.keras.losses.binary_crossentropy,\n",
    "              optimizer=tf.keras.optimizers.Adam(learning_rate=lr),\n",
    "              metrics=[\"binary_accuracy\"])\n"
   ]
  },
  {
   "cell_type": "code",
   "execution_count": 380,
   "metadata": {},
   "outputs": [],
   "source": [
    "history = model.fit(x_train, t_train, batch_size=batch_size, epochs=n_epochs, verbose=0, validation_data=(x_dev, t_dev))"
   ]
  },
  {
   "cell_type": "code",
   "execution_count": 381,
   "metadata": {},
   "outputs": [
    {
     "data": {
      "image/png": "[encoded data removed]",
      "text/plain": [
       "<Figure size 576x360 with 1 Axes>"
      ]
     },
     "metadata": {
      "needs_background": "light"
     },
     "output_type": "display_data"
    }
   ],
   "source": [
    "results=pd.DataFrame(history.history)\n",
    "results.plot(figsize=(8, 5))\n",
    "plt.grid(True)\n",
    "plt.xlabel (\"Epochs\")\n",
    "plt.ylabel (\"Accuracy - Mean Log Loss\")\n",
    "plt.gca().set_ylim(0, 1) # set the vertical range to [0-1]\n",
    "plt.show()"
   ]
  },
  {
   "cell_type": "markdown",
   "metadata": {},
   "source": [
    "# Test"
   ]
  },
  {
   "cell_type": "code",
   "execution_count": 382,
   "metadata": {},
   "outputs": [
    {
     "data": {
      "text/plain": [
       "0.63595"
      ]
     },
     "execution_count": 382,
     "metadata": {},
     "output_type": "execute_result"
    }
   ],
   "source": [
    "dev_predictions=model.predict(x_dev)\n",
    "dev_rounded=tf.keras.activations.sigmoid(dev_predictions)\n",
    "dev_binary = (dev_rounded < 0.5).numpy().astype(int)\n",
    "dev_correct_predictions = np.equal(np.array(dev_binary),np.array(t_dev))\n",
    "dev_accuracy = np.mean(dev_correct_predictions)\n",
    "dev_accuracy\n"
   ]
  },
  {
   "cell_type": "markdown",
   "metadata": {},
   "source": [
    "# Project"
   ]
  },
  {
   "cell_type": "code",
   "execution_count": 383,
   "metadata": {},
   "outputs": [
    {
     "data": {
      "text/plain": [
       "lsoa_a    883\n",
       "lsoa_b    523\n",
       "Name: 0, dtype: int64"
      ]
     },
     "execution_count": 383,
     "metadata": {},
     "output_type": "execute_result"
    }
   ],
   "source": [
    "data[[\"lsoa_a\", \"lsoa_b\"]].iloc[0]"
   ]
  },
  {
   "cell_type": "code",
   "execution_count": 384,
   "metadata": {},
   "outputs": [
    {
     "data": {
      "text/plain": [
       "(883, 523)"
      ]
     },
     "execution_count": 384,
     "metadata": {},
     "output_type": "execute_result"
    }
   ],
   "source": [
    "inputs = (data[\"lsoa_a\"].iloc[0], data[\"lsoa_b\"].iloc[0])\n",
    "inputs"
   ]
  },
  {
   "cell_type": "code",
   "execution_count": 385,
   "metadata": {},
   "outputs": [
    {
     "name": "stdout",
     "output_type": "stream",
     "text": [
      "-0.05535 51.41925\n",
      "0.07945 51.433890000000005\n"
     ]
    }
   ],
   "source": [
    "coords1 = lsoa2coords[idx2lsoa[inputs[0]]]\n",
    "long1 = coords1[0][0]\n",
    "lat1 = coords1[1][0]\n",
    "\n",
    "coords2 = lsoa2coords[idx2lsoa[inputs[1]]]\n",
    "long2 = coords2[0][0]\n",
    "lat2 = coords2[1][0]\n",
    "print(long1, lat1)\n",
    "print(long2, lat2)"
   ]
  },
  {
   "cell_type": "code",
   "execution_count": 386,
   "metadata": {},
   "outputs": [],
   "source": [
    "a = 'E01000400'\n",
    "b = 'E01000900'\n",
    "day = 'Saturday'\n",
    "hour = '17:00'\n",
    "hour = int(hour.split(\":\")[0])\n",
    "hour = hour2interval[hour]\n",
    "inputs = (lsoa2idx[a], lsoa2idx[b], day2idx[day], hour2interval[hour])"
   ]
  },
  {
   "cell_type": "code",
   "execution_count": 387,
   "metadata": {},
   "outputs": [
    {
     "data": {
      "text/plain": [
       "14.99"
      ]
     },
     "execution_count": 387,
     "metadata": {},
     "output_type": "execute_result"
    }
   ],
   "source": [
    "distance = geodesic((long1, lat1), (long2, lat2)).kilometers\n",
    "np.array(distance).round(2)"
   ]
  },
  {
   "cell_type": "code",
   "execution_count": 397,
   "metadata": {},
   "outputs": [],
   "source": [
    "def predictC(a, b, day=day, hour=hour, model=model, lsoa2idx=lsoa2idx, day2idx=day2idx, hour2interval=hour2interval):\n",
    "  a_long = a[0][0]\n",
    "  a_lat = a[1][0]\n",
    "  b_long = b[0][0]\n",
    "  b_lat = b[1][0]\n",
    "  distance = geodesic((a_long, a_lat), (b_long, b_lat)).kilometers\n",
    "  max_distance = 2*distance\n",
    "  \n",
    "  # Calculate distance from a to any point other value in unique_lsoas and keep it in a dictionary with the index of the lsoa\n",
    "  #b_all_distances = {lsoa: geodesic(b, lsoa2coords[idx2lsoa[lsoa]]).kilometers for lsoa in unique_lsoas}\n",
    "  b_all_distances = {}\n",
    "  for lsoa in unique_lsoas:\n",
    "    if len(lsoa) > 0:\n",
    "      long = lsoa2coords[lsoa][0]\n",
    "      lat = lsoa2coords[lsoa][1]\n",
    "      if len(long) > 0 and len(lat) > 0:\n",
    "        b_all_distances[lsoa] = geodesic((b_long, b_lat), (long[0], lat[0])).kilometers\n",
    "  \n",
    "  # Filter these distances with max_distance\n",
    "  b_filtered_distances = {lsoa: distance for lsoa, distance in b_all_distances.items() if distance <= max_distance}\n",
    "\n",
    "  # Calculate the output of the model given a and all of the filtered distances\n",
    "\n",
    "  a_dist = {}\n",
    "  for lsoa in b_filtered_distances.keys():\n",
    "    inputs = (lsoa2idx[coords2lsoa[a]], lsoa2idx[lsoa], day2idx[day], hour2interval[hour])\n",
    "    prediction = model.predict(np.array(inputs).reshape(1, -1))\n",
    "    a_dist[lsoa] = prediction\n",
    "  \n",
    "  b_dist = {}\n",
    "  for lsoa in b_filtered_distances.keys():\n",
    "    inputs = (lsoa2idx[coords2lsoa[b]], lsoa2idx[lsoa], day2idx[day], hour2interval[hour])\n",
    "    prediction = model.predict(np.array(inputs).reshape(1, -1))\n",
    "    b_dist[lsoa] = prediction\n",
    "  \n",
    "  # Calculate the min value for the sum of the values in every same key in a and b\n",
    "\n",
    "  min_sum = 0\n",
    "  min_lsoa = None\n",
    "  for lsoa in a_dist.keys():\n",
    "    sum_values = a_dist[lsoa] + b_dist[lsoa]\n",
    "    if sum_values > min_sum:\n",
    "      min_sum = sum_values\n",
    "      min_lsoa = lsoa\n",
    "  \n",
    "  return min_lsoa"
   ]
  },
  {
   "cell_type": "code",
   "execution_count": 398,
   "metadata": {},
   "outputs": [
    {
     "data": {
      "text/plain": [
       "'E01000863'"
      ]
     },
     "execution_count": 398,
     "metadata": {},
     "output_type": "execute_result"
    }
   ],
   "source": [
    "c = predictC(((0.098476,), (51.46539,)), ((-0.15325999999999998,), (51.54797,)), day, hour)\n",
    "c"
   ]
  },
  {
   "cell_type": "code",
   "execution_count": 399,
   "metadata": {},
   "outputs": [
    {
     "data": {
      "text/plain": [
       "((-0.14355,), (51.5393,))"
      ]
     },
     "execution_count": 399,
     "metadata": {},
     "output_type": "execute_result"
    }
   ],
   "source": [
    "lsoa2coords[c]"
   ]
  },
  {
   "cell_type": "code",
   "execution_count": null,
   "metadata": {},
   "outputs": [],
   "source": []
  }
 ],
 "metadata": {
  "kernelspec": {
   "display_name": "nlp",
   "language": "python",
   "name": "python3"
  },
  "language_info": {
   "codemirror_mode": {
    "name": "ipython",
    "version": 3
   },
   "file_extension": ".py",
   "mimetype": "text/x-python",
   "name": "python",
   "nbconvert_exporter": "python",
   "pygments_lexer": "ipython3",
   "version": "3.6.13"
  }
 },
 "nbformat": 4,
 "nbformat_minor": 2
}
